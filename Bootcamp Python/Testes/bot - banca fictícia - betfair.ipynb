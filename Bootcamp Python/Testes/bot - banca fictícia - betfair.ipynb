{
 "cells": [
  {
   "cell_type": "code",
   "execution_count": 1,
   "metadata": {},
   "outputs": [
    {
     "name": "stdout",
     "output_type": "stream",
     "text": [
      "Ao vivo\n",
      "\n",
      "Botafogo SP\n",
      "Londrina\n",
      "Brasil de Pelotas\n",
      "São Bento\n",
      "Operario PR\n",
      "Guaraní\n",
      "\n",
      "A seguir\n",
      "\n",
      "Parana\n",
      "Atlético-GO\n",
      "Paysandu\n",
      "Nacional AM\n",
      "Santa Tecla\n",
      "Ad San Carlos\n",
      "Talleres (RE)\n",
      "Deportivo Armenio\n",
      "Atlético-MG\n",
      "La Equidad\n",
      "CF America\n",
      "Tigres\n",
      "Cuiaba\n",
      "Figueirense\n",
      "Grêmio\n",
      "SE Palmeiras\n",
      "Vila Nova\n",
      "Sport Recife\n",
      "Leones FC\n",
      "Fortaleza\n",
      "Managua FC\n",
      "CD Motagua\n",
      "Cruz Azul\n",
      "LA Galaxy\n"
     ]
    }
   ],
   "source": [
    "# bot para o lay ao correct score\n",
    "\n",
    "import time\n",
    "from bs4 import BeautifulSoup as bs\n",
    "from selenium import webdriver   \n",
    "\n",
    "url = 'https://www.betfair.com/exchange/plus/football/inplay/'\n",
    "driver = webdriver.Firefox()\n",
    "driver.get(url)\n",
    "time.sleep(2)\n",
    "\n",
    "# a linha abaixo clica no menu dropdown e a próxima clica em umas das opções que \n",
    "# aparecem após o primeiro clique\n",
    "driver.find_element_by_class_name('group-by-filter').click()\n",
    "driver.find_element_by_css_selector('.expanded > div:nth-child(3) > bf-option:nth-child(2) > span:nth-child(1)').click()\n",
    "\n",
    "time.sleep(15)\n",
    "html = driver.execute_script(\"return document.documentElement.outerHTML\")\n",
    "page_selenium = bs(html, 'html.parser')\n",
    "\n",
    "erro_1 = 0\n",
    "erro_2 = 0\n",
    "\n",
    "try:\n",
    "    tam_ao_vivo = len(page_selenium.find_all('tbody')[1].find_all(class_='name'))\n",
    "    ao_vivo = page_selenium.find_all('tbody')[1].find_all(class_='name')\n",
    "except:\n",
    "    erro_1 = 1\n",
    "    \n",
    "try:\n",
    "    tam_a_seguir = len(page_selenium.find_all('tbody')[2].find_all(class_='name'))\n",
    "    a_seguir = page_selenium.find_all('tbody')[2].find_all(class_='name')\n",
    "except:\n",
    "    erro_2 = 1\n",
    "\n",
    "if erro_1 == 0:\n",
    "    print('Ao vivo\\n')\n",
    "    for i in range(tam_ao_vivo):    \n",
    "        print(ao_vivo[i].text)\n",
    "\n",
    "if erro_2 == 0:\n",
    "    print('\\nA seguir\\n')\n",
    "    for i in range(tam_a_seguir):\n",
    "        print(a_seguir[i].text)"
   ]
  }
 ],
 "metadata": {
  "kernelspec": {
   "display_name": "Python 3",
   "language": "python",
   "name": "python3"
  },
  "language_info": {
   "codemirror_mode": {
    "name": "ipython",
    "version": 3
   },
   "file_extension": ".py",
   "mimetype": "text/x-python",
   "name": "python",
   "nbconvert_exporter": "python",
   "pygments_lexer": "ipython3",
   "version": "3.7.1"
  }
 },
 "nbformat": 4,
 "nbformat_minor": 2
}
