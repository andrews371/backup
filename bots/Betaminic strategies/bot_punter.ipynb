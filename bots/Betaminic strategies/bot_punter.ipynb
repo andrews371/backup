{
 "cells": [
  {
   "cell_type": "code",
   "execution_count": 37,
   "metadata": {},
   "outputs": [
    {
     "data": {
      "text/html": [
       "<style>.container { width:99% !important; }</style>"
      ],
      "text/plain": [
       "<IPython.core.display.HTML object>"
      ]
     },
     "metadata": {},
     "output_type": "display_data"
    }
   ],
   "source": [
    "# bot punter \n",
    "\n",
    "import threading\n",
    "import pandas as pd\n",
    "import numpy as np\n",
    "import requests\n",
    "from bs4 import BeautifulSoup as bs\n",
    "from selenium import webdriver \n",
    "from selenium.webdriver.common.keys import Keys\n",
    "from selenium.webdriver.common.action_chains import ActionChains\n",
    "from IPython.core.display import display, HTML\n",
    "display(HTML(\"<style>.container { width:99% !important; }</style>\"))\n",
    "from os import environ\n",
    "environ['PYGAME_HIDE_SUPPORT_PROMPT'] = '1'\n",
    "import pygame  # it is important to import pygame after that\n",
    "import time\n",
    "\n",
    "#Pandas Settings\n",
    "pd.options.display.float_format = '{:,.2f}'.format"
   ]
  },
  {
   "cell_type": "markdown",
   "metadata": {},
   "source": [
    "## Estratégias"
   ]
  },
  {
   "cell_type": "code",
   "execution_count": null,
   "metadata": {},
   "outputs": [],
   "source": [
    "def bhct(i, lista_hct, tam_lista_hct):\n",
    "    # daqui para baixo analisamos os jogos da liga que foi passada\n",
    "    tam_jogos = page.find_all('table',{'class':'games'})[i].find('tbody').find_all('tr')    \n",
    "    # chegando se as competições do dia fazem parte da estratégia\n",
    "    for i in range(tam_competicoes):\n",
    "        # ligas do dia\n",
    "        liga_tipster = page.find_all('table',{'class':'games'})[i].find('thead').find_all('th')[1].text\n",
    "        for j in range(tam_lista_hct):\n",
    "            if liga_tipster == lista_hct[j]:\n",
    "                "
   ]
  },
  {
   "cell_type": "code",
   "execution_count": null,
   "metadata": {},
   "outputs": [],
   "source": [
    "def over_25(i, lista_o25, tam_lista_o25):\n",
    "    # daqui para baixo analisamos os jogos da liga que foi passada\n",
    "    tam_jogos = page.find_all('table',{'class':'games'})[i].find('tbody').find_all('tr')"
   ]
  },
  {
   "cell_type": "code",
   "execution_count": null,
   "metadata": {},
   "outputs": [],
   "source": [
    "def bhft(i):\n",
    "    # daqui para baixo analisamos os jogos da liga que foi passada\n",
    "    tam_jogos = page.find_all('table',{'class':'games'})[i].find('tbody').find_all('tr')"
   ]
  },
  {
   "cell_type": "code",
   "execution_count": null,
   "metadata": {},
   "outputs": [],
   "source": [
    "def under_25(i):\n",
    "    # daqui para baixo analisamos os jogos da liga que foi passada\n",
    "    tam_jogos = page.find_all('table',{'class':'games'})[i].find('tbody').find_all('tr')"
   ]
  },
  {
   "cell_type": "code",
   "execution_count": null,
   "metadata": {},
   "outputs": [],
   "source": [
    "def back_empate(i):\n",
    "    # daqui para baixo analisamos os jogos da liga que foi passada\n",
    "    tam_jogos = page.find_all('table',{'class':'games'})[i].find('tbody').find_all('tr')"
   ]
  },
  {
   "cell_type": "code",
   "execution_count": 141,
   "metadata": {},
   "outputs": [
    {
     "name": "stdout",
     "output_type": "stream",
     "text": [
      "2.22\n"
     ]
    }
   ],
   "source": [
    "url_odds = 'https://www.oddsportal.com/soccer/italy/serie-a/parma-lecce-z7KzrgjU/'\n",
    "odd = odds_under(url_odds)\n",
    "print(odd)"
   ]
  },
  {
   "cell_type": "code",
   "execution_count": 99,
   "metadata": {},
   "outputs": [],
   "source": [
    "def odds_home(url):\n",
    "    # descomentar estas 4 próximas linhas para usar o navegador invisível\n",
    "    gecko = '/home/andre/Downloads/geckodriver'\n",
    "    driver = webdriver.FirefoxOptions()\n",
    "    driver.add_argument('-headless')\n",
    "    driver = webdriver.Firefox(executable_path=gecko, options=driver)\n",
    "\n",
    "    # comentar a linha abaixo se for usar o navegador invisível e descomentar linhas no topo\n",
    "    #driver = webdriver.Firefox() \n",
    "    driver.get(url)\n",
    "    time.sleep(1)\n",
    "\n",
    "    for i in range(1, 20):  \n",
    "        var = str(i)                                     \n",
    "        bookmaker = driver.find_element_by_css_selector('tr.lo:nth-child('+ var +') > td:nth-child(1) > div:nth-child(1) > a:nth-child(2)').text\n",
    "        if bookmaker == 'Pinnacle':     \n",
    "            \n",
    "            # pegando a odd de abertura do match odds - home\n",
    "            elem_opening_odd = driver.find_element_by_css_selector('tr.lo:nth-child('+ var +') > td:nth-child(2)')\n",
    "            hov = ActionChains(driver).move_to_element(elem_opening_odd)\n",
    "            hov.perform()\n",
    "            data_in_the_bubble = driver.find_element_by_xpath(\"//*[@id='tooltiptext']\")\n",
    "            ooh = data_in_the_bubble.get_attribute(\"innerHTML\").split('Opening odds:')[1].split('<strong>')[1].split('</strong>')[0]\n",
    "            break\n",
    "    \n",
    "    driver.quit()\n",
    "    \n",
    "    return ooh"
   ]
  },
  {
   "cell_type": "code",
   "execution_count": 94,
   "metadata": {},
   "outputs": [],
   "source": [
    "def odds_draw(url):\n",
    "    # descomentar estas 4 próximas linhas para usar o navegador invisível\n",
    "    gecko = '/home/andre/Downloads/geckodriver'\n",
    "    driver = webdriver.FirefoxOptions()\n",
    "    driver.add_argument('-headless')\n",
    "    driver = webdriver.Firefox(executable_path=gecko, options=driver)\n",
    "\n",
    "    # comentar a linha abaixo se for usar o navegador invisível e descomentar linhas no topo\n",
    "    #driver = webdriver.Firefox() \n",
    "    driver.get(url)\n",
    "    time.sleep(1)\n",
    "\n",
    "    # pegando a odd do match odds\n",
    "    \n",
    "    # draw\n",
    "    for i in range(1, 20):  \n",
    "        var = str(i)                                     \n",
    "        bookmaker = driver.find_element_by_css_selector('tr.lo:nth-child('+ var +') > td:nth-child(1) > div:nth-child(1) > a:nth-child(2)').text\n",
    "        if bookmaker == 'Pinnacle':     \n",
    "            \n",
    "            # pegando a odd de abertura do match odds - draw\n",
    "            elem_opening_odd = driver.find_element_by_css_selector('tr.lo:nth-child('+ var +') > td:nth-child(3)')\n",
    "            hov = ActionChains(driver).move_to_element(elem_opening_odd)\n",
    "            hov.perform()\n",
    "            data_in_the_bubble = driver.find_element_by_xpath(\"//*[@id='tooltiptext']\")\n",
    "            ood = data_in_the_bubble.get_attribute(\"innerHTML\").split('Opening odds:')[1].split('<strong>')[1].split('</strong>')[0]\n",
    "            break\n",
    "\n",
    "        \n",
    "    driver.quit()\n",
    "    \n",
    "    return ood"
   ]
  },
  {
   "cell_type": "code",
   "execution_count": 84,
   "metadata": {},
   "outputs": [],
   "source": [
    "def odds_away(url):\n",
    "    # descomentar estas 4 próximas linhas para usar o navegador invisível\n",
    "    gecko = '/home/andre/Downloads/geckodriver'\n",
    "    driver = webdriver.FirefoxOptions()\n",
    "    driver.add_argument('-headless')\n",
    "    driver = webdriver.Firefox(executable_path=gecko, options=driver)\n",
    "\n",
    "    # comentar a linha abaixo se for usar o navegador invisível e descomentar linhas no topo\n",
    "    #driver = webdriver.Firefox() \n",
    "    driver.get(url)\n",
    "    time.sleep(1)\n",
    "\n",
    "    # pegando a odd do match odds\n",
    "    \n",
    "    # away\n",
    "    for i in range(1, 20):  \n",
    "        var = str(i)                                     \n",
    "        bookmaker = driver.find_element_by_css_selector('tr.lo:nth-child('+ var +') > td:nth-child(1) > div:nth-child(1) > a:nth-child(2)').text\n",
    "        if bookmaker == 'Pinnacle': \n",
    "            \n",
    "            # pegando a odd de abertura do match odds - away\n",
    "            elem_opening_odd = driver.find_element_by_css_selector('tr.lo:nth-child('+ var +') > td:nth-child(4)')\n",
    "            hov = ActionChains(driver).move_to_element(elem_opening_odd)\n",
    "            hov.perform()\n",
    "            data_in_the_bubble = driver.find_element_by_xpath(\"//*[@id='tooltiptext']\")\n",
    "            ooa = data_in_the_bubble.get_attribute(\"innerHTML\").split('Opening odds:')[1].split('<strong>')[1].split('</strong>')[0]\n",
    "            break\n",
    "        \n",
    "    driver.quit()\n",
    "    \n",
    "    return ooa"
   ]
  },
  {
   "cell_type": "code",
   "execution_count": 138,
   "metadata": {},
   "outputs": [],
   "source": [
    "def odds_over(url):\n",
    "    # descomentar estas 4 próximas linhas para usar o navegador invisível\n",
    "    gecko = '/home/andre/Downloads/geckodriver'\n",
    "    driver = webdriver.FirefoxOptions()\n",
    "    driver.add_argument('-headless')\n",
    "    driver = webdriver.Firefox(executable_path=gecko, options=driver)\n",
    "\n",
    "    # comentar a linha abaixo se for usar o navegador invisível e descomentar linhas no topo\n",
    "    #driver = webdriver.Firefox() \n",
    "    driver.get(url)\n",
    "    time.sleep(1)\n",
    "    \n",
    "    # clicando no mercado over e under\n",
    "    driver.find_element_by_css_selector('.ul-nav > li:nth-child(5) > a:nth-child(1)').click()\n",
    "    time.sleep(4)\n",
    "    \n",
    "    body = driver.find_element_by_css_selector('body')\n",
    "    body.send_keys(Keys.PAGE_DOWN)\n",
    "    time.sleep(1)\n",
    "\n",
    "    # clicando em over/under 2.5          \n",
    "    driver.find_element_by_css_selector('div.table-container:nth-child(12) > div:nth-child(1) > strong:nth-child(1) > a:nth-child(1)').click()\n",
    "    time.sleep(1)\n",
    "    \n",
    "    body = driver.find_element_by_css_selector('body')\n",
    "    body.send_keys(Keys.PAGE_DOWN)\n",
    "    time.sleep(1)\n",
    "    \n",
    "    # odd over 2.5\n",
    "    for i in range(1, 20):  \n",
    "        var = str(i)                          \n",
    "        bookmaker = driver.find_element_by_css_selector('tr.lo:nth-child('+ var +') > td:nth-child(1) > div:nth-child(1) > a:nth-child(2)').text\n",
    "        if bookmaker == 'Pinnacle':     \n",
    "            \n",
    "            # odd de abertura de over 2.5               \n",
    "            elem_opening_odd = driver.find_element_by_css_selector('tr.lo:nth-child('+ var +') > td:nth-child(3)')\n",
    "            hov = ActionChains(driver).move_to_element(elem_opening_odd)\n",
    "            hov.perform()\n",
    "            data_in_the_bubble = driver.find_element_by_xpath(\"//*[@id='tooltiptext']\")\n",
    "            opening_odd_over = data_in_the_bubble.get_attribute(\"innerHTML\").split('Opening odds:')[1].split('<strong>')[1].split('</strong>')[0]\n",
    "            break\n",
    "\n",
    "    \n",
    "    driver.quit()\n",
    "    \n",
    "    return opening_odd_over"
   ]
  },
  {
   "cell_type": "code",
   "execution_count": 140,
   "metadata": {},
   "outputs": [],
   "source": [
    "def odds_under(url):\n",
    "    # descomentar estas 4 próximas linhas para usar o navegador invisível\n",
    "    gecko = '/home/andre/Downloads/geckodriver'\n",
    "    driver = webdriver.FirefoxOptions()\n",
    "    driver.add_argument('-headless')\n",
    "    driver = webdriver.Firefox(executable_path=gecko, options=driver)\n",
    "\n",
    "    # comentar a linha abaixo se for usar o navegador invisível e descomentar linhas no topo\n",
    "    #driver = webdriver.Firefox() \n",
    "    driver.get(url)\n",
    "    time.sleep(1)\n",
    "    \n",
    "    # clicando no mercado over e under\n",
    "    driver.find_element_by_css_selector('.ul-nav > li:nth-child(5) > a:nth-child(1)').click()\n",
    "    time.sleep(4)\n",
    "    \n",
    "    body = driver.find_element_by_css_selector('body')\n",
    "    body.send_keys(Keys.PAGE_DOWN)\n",
    "    time.sleep(1)\n",
    "\n",
    "    # clicando em over/under 2.5          \n",
    "    driver.find_element_by_css_selector('div.table-container:nth-child(12) > div:nth-child(1) > strong:nth-child(1) > a:nth-child(1)').click()\n",
    "    time.sleep(1)\n",
    "    \n",
    "    body = driver.find_element_by_css_selector('body')\n",
    "    body.send_keys(Keys.PAGE_DOWN)\n",
    "    time.sleep(1)\n",
    "    \n",
    "    # odd under 2.5\n",
    "    for i in range(1, 20):  \n",
    "        var = str(i)                          \n",
    "        bookmaker = driver.find_element_by_css_selector('tr.lo:nth-child('+ var +') > td:nth-child(1) > div:nth-child(1) > a:nth-child(2)').text\n",
    "        if bookmaker == 'Pinnacle':     \n",
    "            \n",
    "            # odd de abertura de under 2.5               \n",
    "            elem_opening_odd = driver.find_element_by_css_selector('tr.lo:nth-child('+ var +') > td:nth-child(4)')\n",
    "            hov = ActionChains(driver).move_to_element(elem_opening_odd)\n",
    "            hov.perform()\n",
    "            data_in_the_bubble = driver.find_element_by_xpath(\"//*[@id='tooltiptext']\")\n",
    "            opening_odd_under = data_in_the_bubble.get_attribute(\"innerHTML\").split('Opening odds:')[1].split('<strong>')[1].split('</strong>')[0]\n",
    "            break\n",
    "\n",
    "    \n",
    "    driver.quit()\n",
    "    \n",
    "    return opening_odd_under"
   ]
  },
  {
   "cell_type": "code",
   "execution_count": null,
   "metadata": {},
   "outputs": [],
   "source": [
    "# Script principal\n",
    "\n",
    "# passar todo dia para o bot o link com a data futura de jogos para ele analisar\n",
    "data = '12-01-2020'\n",
    "url = 'https://tipsterarea.com/matches/date-' + data'      \n",
    "link = requests.get(url)\n",
    "page = BeautifulSoup(link.text, 'html.parser')\n",
    "\n",
    "# lista de todas as competições do betaminic do jeito que ta escrito no site tipster\n",
    "leagues = []\n",
    "tam_leagues = len(leagues)\n",
    "\n",
    "# lista de ligas do back home contra tendencia\n",
    "lista_hct = []\n",
    "tam_lista_hct = len(lista_hct)\n",
    "\n",
    "# lista de ligas do over 2.5 \n",
    "lista_o25 = []\n",
    "tam_lista_o25 = len(lista_o25)\n",
    "\n",
    "# competições do site tipster\n",
    "tam_competicoes = len(page.find_all('table',{'class':'games'}))            \n",
    "\n",
    "# chegando se as competições do dia fazem parte das do betaminic\n",
    "for i in range(tam_competicoes):\n",
    "    # ligas do dia\n",
    "    liga_tipster = page.find_all('table',{'class':'games'})[i].find('thead').find_all('th')[1].text\n",
    "\n",
    "    for j in range(tam_leagues):\n",
    "        if liga_tipster == leagues[j]:\n",
    "            # verificando se os filtros das estratégias são atendidos\n",
    "            bhct(i, lista_hct, tam_lista_hct)\n",
    "            over_25(i, lista_o25, tam_lista_o25)\n",
    "            bhft(i)\n",
    "            under_25(i)\n",
    "            back_empate(i)\n",
    "            break"
   ]
  }
 ],
 "metadata": {
  "kernelspec": {
   "display_name": "Python 3",
   "language": "python",
   "name": "python3"
  },
  "language_info": {
   "codemirror_mode": {
    "name": "ipython",
    "version": 3
   },
   "file_extension": ".py",
   "mimetype": "text/x-python",
   "name": "python",
   "nbconvert_exporter": "python",
   "pygments_lexer": "ipython3",
   "version": "3.7.1"
  }
 },
 "nbformat": 4,
 "nbformat_minor": 2
}
