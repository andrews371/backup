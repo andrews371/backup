{
 "cells": [
  {
   "cell_type": "code",
   "execution_count": 2,
   "metadata": {},
   "outputs": [
    {
     "name": "stdout",
     "output_type": "stream",
     "text": [
      "Valor em microssegundos que você quer 10000\n",
      "55536.0\n"
     ]
    }
   ],
   "source": [
    "# PARA O TIMER 1\n",
    "\n",
    "inp = int(input('Valor em microssegundos que você quer '))\n",
    "res = -inp/1 + 65536\n",
    "print(res)"
   ]
  },
  {
   "cell_type": "code",
   "execution_count": 33,
   "metadata": {},
   "outputs": [
    {
     "name": "stdout",
     "output_type": "stream",
     "text": [
      "Valor em microssegundos que você quer 1140\n",
      "113.5\n"
     ]
    }
   ],
   "source": [
    "# PARA O TIMER 0\n",
    "\n",
    "inp = int(input('Valor em microssegundos que você quer '))\n",
    "res = -inp/8 + 256\n",
    "print(res)"
   ]
  }
 ],
 "metadata": {
  "kernelspec": {
   "display_name": "Python 3",
   "language": "python",
   "name": "python3"
  },
  "language_info": {
   "codemirror_mode": {
    "name": "ipython",
    "version": 3
   },
   "file_extension": ".py",
   "mimetype": "text/x-python",
   "name": "python",
   "nbconvert_exporter": "python",
   "pygments_lexer": "ipython3",
   "version": "3.7.1"
  }
 },
 "nbformat": 4,
 "nbformat_minor": 2
}
