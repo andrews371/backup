{
 "cells": [
  {
   "cell_type": "markdown",
   "metadata": {},
   "source": [
    "## Filtros e Agrupamentos\n",
    "### para saber qual mercado, campeonato, odd, etc deu mais lucro ou prejuízo e para coisas desse tipo"
   ]
  },
  {
   "cell_type": "code",
   "execution_count": 3,
   "metadata": {},
   "outputs": [],
   "source": [
    "import pandas as pd\n",
    "\n",
    "#Pandas Settings\n",
    "pd.options.display.float_format = '{:,.2f}'.format"
   ]
  },
  {
   "cell_type": "code",
   "execution_count": 54,
   "metadata": {
    "scrolled": true
   },
   "outputs": [
    {
     "name": "stdout",
     "output_type": "stream",
     "text": [
      "oi\n"
     ]
    },
    {
     "data": {
      "text/html": [
       "<div>\n",
       "<style scoped>\n",
       "    .dataframe tbody tr th:only-of-type {\n",
       "        vertical-align: middle;\n",
       "    }\n",
       "\n",
       "    .dataframe tbody tr th {\n",
       "        vertical-align: top;\n",
       "    }\n",
       "\n",
       "    .dataframe thead th {\n",
       "        text-align: right;\n",
       "    }\n",
       "</style>\n",
       "<table border=\"1\" class=\"dataframe\">\n",
       "  <thead>\n",
       "    <tr style=\"text-align: right;\">\n",
       "      <th></th>\n",
       "      <th>mandante</th>\n",
       "      <th>visitante</th>\n",
       "      <th>placar</th>\n",
       "      <th>teste_int</th>\n",
       "    </tr>\n",
       "  </thead>\n",
       "  <tbody>\n",
       "    <tr>\n",
       "      <th>0</th>\n",
       "      <td>cruzeiro</td>\n",
       "      <td>atletico</td>\n",
       "      <td>0x2</td>\n",
       "      <td>HT</td>\n",
       "    </tr>\n",
       "    <tr>\n",
       "      <th>1</th>\n",
       "      <td>atletico</td>\n",
       "      <td>cruzeiro</td>\n",
       "      <td>1x1</td>\n",
       "      <td>FT</td>\n",
       "    </tr>\n",
       "    <tr>\n",
       "      <th>2</th>\n",
       "      <td>atletico</td>\n",
       "      <td>cruzeiro</td>\n",
       "      <td>3x0</td>\n",
       "      <td>HT</td>\n",
       "    </tr>\n",
       "    <tr>\n",
       "      <th>3</th>\n",
       "      <td>cruzeiro</td>\n",
       "      <td>atletico</td>\n",
       "      <td>3x0</td>\n",
       "      <td>HT</td>\n",
       "    </tr>\n",
       "  </tbody>\n",
       "</table>\n",
       "</div>"
      ],
      "text/plain": [
       "   mandante visitante placar teste_int\n",
       "0  cruzeiro  atletico    0x2        HT\n",
       "1  atletico  cruzeiro    1x1        FT\n",
       "2  atletico  cruzeiro    3x0        HT\n",
       "3  cruzeiro  atletico    3x0        HT"
      ]
     },
     "metadata": {},
     "output_type": "display_data"
    }
   ],
   "source": [
    "a = 'HT'\n",
    "vis = 'atletico'\n",
    "\n",
    "try:\n",
    "    teste_df = pd.read_csv('teste_apagar.csv')\n",
    "except:\n",
    "    teste_df = pd.DataFrame()\n",
    "    pass\n",
    "df_filtro = pd.DataFrame(\n",
    "    {'mandante':['cruzeiro', 'atletico', 'atletico', 'cruzeiro'],\n",
    "     'visitante':[vis, 'cruzeiro', 'cruzeiro', vis],\n",
    "     'placar':['0x2', '1x1', '3x0', '3x0'], 'teste_int':[a, 'FT', a, a]}\n",
    ") \n",
    "\n",
    "frames = [teste_df, df_filtro]\n",
    "\n",
    "result_df = pd.concat(frames, sort=False)\n",
    "\n",
    "try:\n",
    "    result_df.drop(['Unnamed: 0'], inplace=True, axis=1)\n",
    "except:\n",
    "    pass\n",
    "\n",
    "result_df = result_df.reset_index(drop=True)\n",
    "\n",
    "teste_df = result_df[result_df['placar'] == '1x1']\n",
    "teste_df = teste_df[teste_df['mandante'] == 'atletic']\n",
    "\n",
    "# se nao tem o placar '1x1' ou não tem o time 'atletic' entra no if\n",
    "if teste_df.empty :\n",
    "    print('oi')\n",
    "\n",
    "result_df.to_csv('teste_apagar.csv') # se aqui eu colocasse index=False n precisava desse drop(['Unnamed: 0'])\n",
    "display(result_df)"
   ]
  },
  {
   "cell_type": "code",
   "execution_count": null,
   "metadata": {},
   "outputs": [],
   "source": [
    "# em cima era só teste. apagar o arquivo gerado se for prosseguir com os códigos aqui\n",
    "# e usar no lugar no lugar do código acima, este\n",
    "\n",
    "df_filtro = pd.DataFrame(\n",
    "    {'mandante':['cruzeiro','atletico','atletico','cruzeiro'],\n",
    "     'visitante':['atletico','cruzeiro','cruzeiro','atletico'],\n",
    "     'placar':['0x2','2x2','3x3','3x0']}\n",
    ")    \n",
    "\n",
    "display(df_filtro)"
   ]
  },
  {
   "cell_type": "code",
   "execution_count": null,
   "metadata": {},
   "outputs": [],
   "source": [
    "filtro_df = result_df[result_df['mandante'] == 'cruzeiro']\n",
    "for key,row in filtro_df.iterrows():\n",
    "    if row['placar'] == '3x3':\n",
    "        print('oi')"
   ]
  },
  {
   "cell_type": "code",
   "execution_count": null,
   "metadata": {},
   "outputs": [],
   "source": [
    "# alterando nome de atributo de coluna. Para alterar o nome da coluna tem um exemplo \n",
    "# no notebook \"Elo Score\"\n",
    "\n",
    "for key,row in df_filtro.iterrows():\n",
    "    if row['mandante'] == 'cruzeiro':\n",
    "        df_filtro.loc[key,'mandante'] = 'cru'\n",
    "display(df_filtro)"
   ]
  },
  {
   "cell_type": "code",
   "execution_count": null,
   "metadata": {},
   "outputs": [],
   "source": [
    "# alterando nome de atributo de coluna. Para alterar o nome da coluna tem um exemplo \n",
    "# no notebook \"Elo Score\"\n",
    "\n",
    "for key,row in df_filtro.iterrows():\n",
    "    if row['visitante'] == 'cruzeiro':\n",
    "        df_filtro.loc[key,'visitante']  = 'cru'\n",
    "display(df_filtro)"
   ]
  },
  {
   "cell_type": "code",
   "execution_count": null,
   "metadata": {},
   "outputs": [],
   "source": [
    "# renomeando o nome cruzeiro como estava inicialmente\n",
    "\n",
    "# alterando nome de atributo de coluna. Para alterar o nome da coluna tem um exemplo \n",
    "# no notebook \"Elo Score\"\n",
    "\n",
    "for key,row in df_filtro.iterrows():\n",
    "    if row['mandante'] == 'cru':\n",
    "        df_filtro.loc[key,'mandante']  = 'cruzeiro'\n",
    "    \n",
    "    if row['visitante'] == 'cru':\n",
    "        df_filtro.loc[key,'visitante'] = 'cruzeiro'\n",
    "display(df_filtro)"
   ]
  },
  {
   "cell_type": "code",
   "execution_count": null,
   "metadata": {},
   "outputs": [],
   "source": [
    "df_filtro"
   ]
  },
  {
   "cell_type": "code",
   "execution_count": null,
   "metadata": {},
   "outputs": [],
   "source": [
    "cruzeiro_mandante = [True, False, False, True]"
   ]
  },
  {
   "cell_type": "code",
   "execution_count": null,
   "metadata": {},
   "outputs": [],
   "source": [
    "df_filtro[cruzeiro_mandante]"
   ]
  },
  {
   "cell_type": "code",
   "execution_count": null,
   "metadata": {},
   "outputs": [],
   "source": [
    "# a maneira acima é idêntica à esta\n",
    "\n",
    "df_filtro[[True, False, False, True]] # lembrar dos 2 colchetes pois é uma lista dentro de outra"
   ]
  },
  {
   "cell_type": "code",
   "execution_count": null,
   "metadata": {},
   "outputs": [],
   "source": [
    "# como mostrado precisamos sabe se o que queremos é False ou True\n",
    "# porém não dá para fazer assim como uma tabela grande\n",
    "# usamos o conceito de True e False mas fazemos da maneira a seguir\n",
    "\n",
    "filtro_cruzeiro_mandante = df_filtro['mandante'] == 'cruzeiro'\n",
    "print(filtro_cruzeiro_mandante)"
   ]
  },
  {
   "cell_type": "code",
   "execution_count": null,
   "metadata": {},
   "outputs": [],
   "source": [
    "# de posse disso agora fazemos...\n",
    "\n",
    "df_filtro[filtro_cruzeiro_mandante]"
   ]
  },
  {
   "cell_type": "code",
   "execution_count": null,
   "metadata": {},
   "outputs": [],
   "source": [
    "# para não ter que criar uma variável podíamos na mesma lógica, apenas fazer:\n",
    "# aqui estou filtrando valor de uma coluna (no caso cruzeiro da coluna mandante)\n",
    "\n",
    "df_filtro[df_filtro['mandante'] == 'cruzeiro']"
   ]
  },
  {
   "cell_type": "code",
   "execution_count": null,
   "metadata": {},
   "outputs": [],
   "source": [
    "df_filtro['gols_mandante'] = df_filtro.apply(lambda row: int(row['placar'].split('x')[0]), axis=1)\n",
    "df_filtro['gols_visitante'] = df_filtro.apply(lambda row: int(row['placar'].split('x')[1]), axis=1)\n",
    "df_filtro['total_gols'] = df_filtro['gols_mandante'] + df_filtro['gols_visitante']\n",
    "display(df_filtro)"
   ]
  },
  {
   "cell_type": "code",
   "execution_count": null,
   "metadata": {},
   "outputs": [],
   "source": [
    "fover25 = df_filtro['total_gols'] > 2\n",
    "print(fover25)"
   ]
  },
  {
   "cell_type": "code",
   "execution_count": null,
   "metadata": {},
   "outputs": [],
   "source": [
    "display(df_filtro[fover25])"
   ]
  },
  {
   "cell_type": "code",
   "execution_count": null,
   "metadata": {},
   "outputs": [],
   "source": [
    "ambas = (df_filtro['gols_mandante'] > 0) & (df_filtro['gols_visitante'] > 0) # aqui tem que usar \"&\" e não \"and\"\n",
    "print(ambas)"
   ]
  },
  {
   "cell_type": "code",
   "execution_count": null,
   "metadata": {},
   "outputs": [],
   "source": [
    "df_filtro[ambas]"
   ]
  },
  {
   "cell_type": "code",
   "execution_count": null,
   "metadata": {},
   "outputs": [],
   "source": [
    "# obs pra casos como o filtro acima, no lugar da sintaxe and, or, temos &, |...\n",
    "\n",
    "fellabot = pd.read_excel('/home/andre/Downloads/novo_fellabot.xlsx')\n",
    "fellabot.head()"
   ]
  },
  {
   "cell_type": "code",
   "execution_count": null,
   "metadata": {},
   "outputs": [],
   "source": [
    "# se fizesse apenas como nas linhas abaixo, retornava apenas true e false para ser colocado como parâmetro\n",
    "# do dataframe, então fiz tudo de uma vez\n",
    "#ganhas = fellabot['Ganhou a aposta?'] == 'Sim'\n",
    "#perdidas = fellabot['Ganhou a aposta?'] == 'Não'\n",
    "\n",
    "ganhas = fellabot[fellabot['Ganhou a aposta?'] == 'Sim']\n",
    "perdidas = fellabot[fellabot['Ganhou a aposta?'] == 'Não']\n",
    "\n",
    "print('apostas ganhas\\n')\n",
    "display(ganhas)\n",
    "print('apostas perdidas\\n')\n",
    "display(perdidas)"
   ]
  },
  {
   "cell_type": "code",
   "execution_count": null,
   "metadata": {},
   "outputs": [],
   "source": [
    "fellabot.info()"
   ]
  },
  {
   "cell_type": "markdown",
   "metadata": {},
   "source": [
    "## Agrupamento de dados com pandas\n",
    "\n",
    "### 1a maneira de fazer - não a melhor opção\n",
    "##### depois vamos ver a melhor opção"
   ]
  },
  {
   "cell_type": "code",
   "execution_count": null,
   "metadata": {},
   "outputs": [],
   "source": [
    "fellabot['Mercado'] # assim ele repete mercados"
   ]
  },
  {
   "cell_type": "code",
   "execution_count": null,
   "metadata": {},
   "outputs": [],
   "source": [
    "fellabot['Mercado'].unique() # usando o unique() não repete mercados"
   ]
  },
  {
   "cell_type": "code",
   "execution_count": null,
   "metadata": {},
   "outputs": [],
   "source": [
    "mercados_unicos = fellabot['Mercado'].unique()\n",
    "\n",
    "for mercado in mercados_unicos:\n",
    "    df_mercado = fellabot[fellabot['Mercado'] == mercado] # df_mercado está recebendo um dataframe logo se torna DF tbm\n",
    "    print(f'Análise do mercado {mercado}')\n",
    "    display(df_mercado)"
   ]
  },
  {
   "cell_type": "code",
   "execution_count": null,
   "metadata": {},
   "outputs": [],
   "source": [
    "# mesmo exemplo anterior mas agora saber a média\n",
    "mercados_unicos = fellabot['Mercado'].unique()\n",
    "\n",
    "for mercado in mercados_unicos:\n",
    "    df_mercado = fellabot[fellabot['Mercado'] == mercado] # df_mercado está recebendo um dataframe logo se torna DF tbm\n",
    "    print(f'Análise do mercado {mercado}')\n",
    "    display(df_mercado.mean()) # apresenta a média de todas as colunas do dataframe df_mercado \n",
    "                               # que sejam valores numéricos"
   ]
  },
  {
   "cell_type": "code",
   "execution_count": null,
   "metadata": {},
   "outputs": [],
   "source": [
    "mercados_unicos = fellabot['Mercado'].unique()\n",
    "\n",
    "for mercado in mercados_unicos:\n",
    "    df_mercado = fellabot[fellabot['Mercado'] == mercado] # df_mercado está recebendo um dataframe logo se torna DF tbm\n",
    "    apostas_unicas = df_mercado['Aposta Realizada'].unique()\n",
    "    \n",
    "    for aposta in apostas_unicas:\n",
    "        df_aposta = df_mercado[df_mercado['Aposta Realizada'] == aposta]\n",
    "        print(f'Análise do mercado {mercado} na aposta {aposta}')\n",
    "        display(df_aposta.mean()) # média de todos os valores numéricos do df \"df_aposta\""
   ]
  },
  {
   "cell_type": "markdown",
   "metadata": {},
   "source": [
    "## Agora fazendo o agrupamento de uma forma mais efetiva \n",
    "## 2a maneira usando o groupby"
   ]
  },
  {
   "cell_type": "code",
   "execution_count": null,
   "metadata": {},
   "outputs": [],
   "source": [
    "fellabot.groupby(['Mercado']).mean()"
   ]
  },
  {
   "cell_type": "code",
   "execution_count": null,
   "metadata": {},
   "outputs": [],
   "source": [
    "fellabot.groupby(['Aposta Realizada']).mean()"
   ]
  },
  {
   "cell_type": "code",
   "execution_count": null,
   "metadata": {},
   "outputs": [],
   "source": [
    "# e se eu quisesse como no exemplo da 1a maneira agrupar por aposta realizada mas que esta estivesse\n",
    "# agrupada em mercado. Bem mais simples com o groupby. fazemos isso em apenas uma linha...\n",
    "\n",
    "fellabot.groupby(['Mercado', 'Aposta Realizada']).mean()"
   ]
  },
  {
   "cell_type": "code",
   "execution_count": null,
   "metadata": {},
   "outputs": [],
   "source": [
    "# podemos colocar mais filtro dentro de filtro\n",
    "# queremos agora separar apostas ganhas e perdidas em cada mercado em cada tipo de aposta em cada mercado\n",
    "\n",
    "fellabot.groupby(['Ganhou a aposta?', 'Mercado', 'Aposta Realizada']).mean()"
   ]
  },
  {
   "cell_type": "code",
   "execution_count": null,
   "metadata": {},
   "outputs": [],
   "source": [
    "# continuando em vez da coluna \"Ganhou a aposta?\" apenas um print\n",
    "# essa parte vai do que cada um prefere. mas sempre com o groupby para facilitar\n",
    "\n",
    "#obs.: ganhas e perdidas aqui é um filtro criado lá em cima\n",
    "\n",
    "print('ganhas e perdidas\\n')\n",
    "display(fellabot.groupby(['Mercado', 'Aposta Realizada']).mean())\n",
    "\n",
    "print('perdidas\\n')\n",
    "display(perdidas.groupby(['Mercado', 'Aposta Realizada']).mean())\n",
    "\n",
    "print('ganhas\\n')\n",
    "display(ganhas.groupby(['Mercado', 'Aposta Realizada']).mean())"
   ]
  },
  {
   "cell_type": "code",
   "execution_count": null,
   "metadata": {},
   "outputs": [],
   "source": [
    "# usando sum\n",
    "\n",
    "display(fellabot.groupby(['Mercado', 'Aposta Realizada']).sum())"
   ]
  },
  {
   "cell_type": "code",
   "execution_count": null,
   "metadata": {},
   "outputs": [],
   "source": [
    "display(fellabot.groupby(['Ganhou a aposta?', 'Mercado', 'Aposta Realizada']).agg(['sum', 'mean']))"
   ]
  },
  {
   "cell_type": "code",
   "execution_count": null,
   "metadata": {},
   "outputs": [],
   "source": [
    "# aqui através do agregation (função agg()) agregamos soma, média e contagem (mais de uma operação) para os campos\n",
    "# ganhou a aposta?, mercado, aposta realizada. para uns campos faz mais sentido média, para outros\n",
    "# soma, outros contagem. na documentaçao tem várias outras funções para o agregation (agg())\n",
    "\n",
    "display(fellabot.groupby(['Ganhou a aposta?', 'Mercado', 'Aposta Realizada']).agg(['sum', 'mean', 'count']))"
   ]
  },
  {
   "cell_type": "markdown",
   "metadata": {},
   "source": [
    "## Taxa de acertos e breakeven odds"
   ]
  },
  {
   "cell_type": "code",
   "execution_count": null,
   "metadata": {},
   "outputs": [],
   "source": [
    "fellabot.head()"
   ]
  },
  {
   "cell_type": "code",
   "execution_count": null,
   "metadata": {},
   "outputs": [],
   "source": [
    "fellabot[['Ganhou a aposta?', 'Resultado']].groupby(['Ganhou a aposta?']).count()"
   ]
  },
  {
   "cell_type": "code",
   "execution_count": null,
   "metadata": {},
   "outputs": [],
   "source": [
    "fellabot['Resultado'].count()"
   ]
  },
  {
   "cell_type": "code",
   "execution_count": null,
   "metadata": {},
   "outputs": [],
   "source": [
    "acertos_erros = fellabot[['Ganhou a aposta?', 'Resultado']].groupby(['Ganhou a aposta?']).count() / fellabot['Resultado'].count()"
   ]
  },
  {
   "cell_type": "code",
   "execution_count": null,
   "metadata": {},
   "outputs": [],
   "source": [
    "acertos_erros"
   ]
  },
  {
   "cell_type": "code",
   "execution_count": null,
   "metadata": {},
   "outputs": [],
   "source": [
    "# odds de vitória para ficar no zero a zero\n",
    "\n",
    "break_even_odds = 1 / acertos_erros.loc['Sim', 'Resultado'] # poderia colocar esse denominador igual a 0.36 mas to fazendo assim para treinar\n",
    "print(break_even_odds)"
   ]
  },
  {
   "cell_type": "code",
   "execution_count": null,
   "metadata": {},
   "outputs": [],
   "source": [
    "# odds médias das vitórias\n",
    "\n",
    "odds_medias_ganhas = fellabot[fellabot['Ganhou a aposta?'] == 'Sim']['Odd'].mean()\n",
    "print(odds_medias_ganhas)"
   ]
  },
  {
   "cell_type": "code",
   "execution_count": null,
   "metadata": {},
   "outputs": [],
   "source": [
    "fellabot[['Mercado','Aposta Realizada','Valor da Entrada','Resultado']].groupby(['Mercado','Aposta Realizada']).agg(['count','sum'])"
   ]
  },
  {
   "cell_type": "code",
   "execution_count": null,
   "metadata": {},
   "outputs": [],
   "source": [
    "resultado_mercado = fellabot[['Mercado','Aposta Realizada','Valor da Entrada','Resultado']].groupby(['Mercado','Aposta Realizada']).agg(['count','sum'])"
   ]
  },
  {
   "cell_type": "code",
   "execution_count": null,
   "metadata": {},
   "outputs": [],
   "source": [
    "# para calcular o rói tenho que dividir o resultado (lucro e prejuízo) pelo total investido\n",
    "# a forma de fazer isso é como segue, visto que se trata de multinível ou multidex\n",
    "# então primeiro selecionamos o que está mais externo (resultado ou valor de entrada)\n",
    "# e depois o mais interno (sum)\n",
    "\n",
    "resultado_mercado['Roi mercado'] = resultado_mercado['Resultado']['sum'] / resultado_mercado['Valor da Entrada']['sum']"
   ]
  },
  {
   "cell_type": "code",
   "execution_count": null,
   "metadata": {},
   "outputs": [],
   "source": [
    "resultado_mercado"
   ]
  },
  {
   "cell_type": "code",
   "execution_count": null,
   "metadata": {},
   "outputs": [],
   "source": [
    "# o valor do roi acima está em percentual e por mercado\n",
    "# agora vamos calcular o roi total\n",
    "\n",
    "resultado_mercado['Roi total'] = resultado_mercado['Resultado']['sum'] / resultado_mercado['Valor da Entrada']['sum'].sum()"
   ]
  },
  {
   "cell_type": "code",
   "execution_count": null,
   "metadata": {},
   "outputs": [],
   "source": [
    "resultado_mercado"
   ]
  },
  {
   "cell_type": "code",
   "execution_count": null,
   "metadata": {},
   "outputs": [],
   "source": [
    "# vamos fazer a mesma coisa que fizemos em cima só que usando loc agora\n",
    "# só para fixar mais uma forma de fazer\n",
    "# os \":\" abaixo é pq queremos todas as linhas\n",
    "\n",
    "resultado_mercado['Entradas % total'] = resultado_mercado.loc[:,('Valor da Entrada','sum')] / resultado_mercado.loc[:,('Valor da Entrada','sum')].sum()"
   ]
  },
  {
   "cell_type": "code",
   "execution_count": null,
   "metadata": {},
   "outputs": [],
   "source": [
    "resultado_mercado"
   ]
  },
  {
   "cell_type": "code",
   "execution_count": null,
   "metadata": {},
   "outputs": [],
   "source": [
    "fellabot.head()"
   ]
  },
  {
   "cell_type": "code",
   "execution_count": null,
   "metadata": {},
   "outputs": [],
   "source": [
    "fellabot.groupby('Campeonato').sum().sort_values('Resultado')"
   ]
  },
  {
   "cell_type": "code",
   "execution_count": null,
   "metadata": {},
   "outputs": [],
   "source": [
    "fellabot_campeonatos = fellabot.groupby('Campeonato').sum().sort_values('Resultado')\n",
    "fellabot_campeonatos_prejuizo = fellabot_campeonatos[fellabot_campeonatos['Resultado'] < 0]\n",
    "\n",
    "print('O resultado foi de $BC{:.2f}'.format(fellabot['Resultado'].sum())) # lembrando q ta somando tanto os lucros como prejuizo fazendo essa soma assim\n",
    "display(fellabot_campeonatos_prejuizo)"
   ]
  },
  {
   "cell_type": "code",
   "execution_count": null,
   "metadata": {},
   "outputs": [],
   "source": [
    "fellabot_campeonatos_prejuizo['Acumulado'] = fellabot_campeonatos_prejuizo['Resultado'].cumsum()\n",
    "fellabot_campeonatos_prejuizo['% Acumulado'] = fellabot_campeonatos_prejuizo['Acumulado'] / fellabot_campeonatos_prejuizo['Resultado'].sum()\n",
    "display(fellabot_campeonatos_prejuizo)"
   ]
  },
  {
   "cell_type": "code",
   "execution_count": null,
   "metadata": {},
   "outputs": [],
   "source": [
    "# retirar campeonatos\n",
    "\n",
    "fellabot_campeonatos.drop(['Italy Serie A','Spain Primera Liga','Mexico Clausura','Turkey Super Lig'], inplace = True)\n",
    "display(fellabot_campeonatos)"
   ]
  },
  {
   "cell_type": "code",
   "execution_count": null,
   "metadata": {},
   "outputs": [],
   "source": [
    "print('após a remoção de alguns campeonatos, o resultado do fellabot em $BC seria de {:.2f}'.format(fellabot_campeonatos['Resultado'].sum()))"
   ]
  },
  {
   "cell_type": "markdown",
   "metadata": {},
   "source": [
    "## Separando intervalos de odds para ver os mais e menos lucrativos"
   ]
  },
  {
   "cell_type": "code",
   "execution_count": null,
   "metadata": {},
   "outputs": [],
   "source": [
    "fellabot.describe()"
   ]
  },
  {
   "cell_type": "code",
   "execution_count": null,
   "metadata": {},
   "outputs": [],
   "source": [
    "# agrupando odds por intervalos de odds com o método cut()\n",
    "\n",
    "pd.cut(fellabot['Odd'], [1,1.25,1.5,1.75,2,2.25,2.50,3,4,5,7,10,14.5])"
   ]
  },
  {
   "cell_type": "code",
   "execution_count": null,
   "metadata": {},
   "outputs": [],
   "source": [
    "fellabot['odds_bin'] = pd.cut(fellabot['Odd'], [1,1.25,1.5,1.75,2,2.25,2.50,3,4,5,7,10,14.5])\n",
    "fellabot.head()"
   ]
  },
  {
   "cell_type": "code",
   "execution_count": null,
   "metadata": {},
   "outputs": [],
   "source": [
    "fellabot.groupby(['odds_bin']).sum().sort_values('Resultado')"
   ]
  }
 ],
 "metadata": {
  "kernelspec": {
   "display_name": "Python 3",
   "language": "python",
   "name": "python3"
  },
  "language_info": {
   "codemirror_mode": {
    "name": "ipython",
    "version": 3
   },
   "file_extension": ".py",
   "mimetype": "text/x-python",
   "name": "python",
   "nbconvert_exporter": "python",
   "pygments_lexer": "ipython3",
   "version": "3.7.1"
  }
 },
 "nbformat": 4,
 "nbformat_minor": 2
}
