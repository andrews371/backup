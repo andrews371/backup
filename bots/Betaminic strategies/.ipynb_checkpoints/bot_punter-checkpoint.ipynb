{
 "cells": [
  {
   "cell_type": "code",
   "execution_count": 1,
   "metadata": {},
   "outputs": [
    {
     "data": {
      "text/html": [
       "<style>.container { width:99% !important; }</style>"
      ],
      "text/plain": [
       "<IPython.core.display.HTML object>"
      ]
     },
     "metadata": {},
     "output_type": "display_data"
    }
   ],
   "source": [
    "# bot punter \n",
    "\n",
    "import threading\n",
    "import pandas as pd\n",
    "import numpy as np\n",
    "from bs4 import BeautifulSoup\n",
    "import requests\n",
    "from IPython.core.display import display, HTML\n",
    "display(HTML(\"<style>.container { width:99% !important; }</style>\"))\n",
    "from os import environ\n",
    "environ['PYGAME_HIDE_SUPPORT_PROMPT'] = '1'\n",
    "import pygame  # it is important to import pygame after that\n",
    "import time\n",
    "\n",
    "#Pandas Settings\n",
    "pd.options.display.float_format = '{:,.2f}'.format"
   ]
  },
  {
   "cell_type": "markdown",
   "metadata": {},
   "source": [
    "## Estratégias"
   ]
  },
  {
   "cell_type": "code",
   "execution_count": null,
   "metadata": {},
   "outputs": [],
   "source": [
    "def bhct(i):\n",
    "    tam_jogos = page.find_all('table',{'class':'games'})[i].find('tbody').find_all('tr')"
   ]
  },
  {
   "cell_type": "code",
   "execution_count": null,
   "metadata": {},
   "outputs": [],
   "source": [
    "def over_25(i):\n",
    "    tam_jogos = page.find_all('table',{'class':'games'})[i].find('tbody').find_all('tr')"
   ]
  },
  {
   "cell_type": "code",
   "execution_count": null,
   "metadata": {},
   "outputs": [],
   "source": [
    "def bhft(i):\n",
    "    tam_jogos = page.find_all('table',{'class':'games'})[i].find('tbody').find_all('tr')"
   ]
  },
  {
   "cell_type": "code",
   "execution_count": null,
   "metadata": {},
   "outputs": [],
   "source": [
    "def under_25(i):\n",
    "    tam_jogos = page.find_all('table',{'class':'games'})[i].find('tbody').find_all('tr')"
   ]
  },
  {
   "cell_type": "code",
   "execution_count": null,
   "metadata": {},
   "outputs": [],
   "source": [
    "def back_empate(i):\n",
    "    tam_jogos = page.find_all('table',{'class':'games'})[i].find('tbody').find_all('tr')"
   ]
  },
  {
   "cell_type": "code",
   "execution_count": null,
   "metadata": {},
   "outputs": [],
   "source": [
    "# passar todo dia para o bot o link com a data futura de jogos para ele analisar\n",
    "data = '12-01-2020'\n",
    "url = 'https://tipsterarea.com/matches/date-' + data'      \n",
    "link = requests.get(url)\n",
    "page = BeautifulSoup(link.text, 'html.parser')\n",
    "\n",
    "# lista de competições do betaminic do jeito que ta escrito no site tipster\n",
    "leagues = []\n",
    "tam_leagues = len(leagues)\n",
    "\n",
    "# lista de ligas do back home contra tendencia\n",
    "lista_hct = []\n",
    "tam_lista_hct = len(lista_hct)\n",
    "\n",
    "# lista de ligas do over 2.5 \n",
    "lista_o25 = []\n",
    "tam_lista_o25 = len(lista_o25)\n",
    "\n",
    "# competições do site tipster\n",
    "tam_competicoes = len(page.find_all('table',{'class':'games'}))            \n",
    "\n",
    "# chegando se as competições do dia fazem parte das do betaminic\n",
    "for i in range(tam_competicoes):\n",
    "    # ligas do dia\n",
    "    liga_tipster = page.find_all('table',{'class':'games'})[i].find('thead').find_all('th')[1].text\n",
    "\n",
    "    for j in range(tam_leagues):\n",
    "        if liga_tipster == leagues[j]:\n",
    "            # verificando se os filtros das estratégias são atendidos\n",
    "            bhct(i)\n",
    "            over_25(i)\n",
    "            bhft(i)\n",
    "            under_25(i)\n",
    "            back_empate(i)\n",
    "            break"
   ]
  }
 ],
 "metadata": {
  "kernelspec": {
   "display_name": "Python 3",
   "language": "python",
   "name": "python3"
  },
  "language_info": {
   "codemirror_mode": {
    "name": "ipython",
    "version": 3
   },
   "file_extension": ".py",
   "mimetype": "text/x-python",
   "name": "python",
   "nbconvert_exporter": "python",
   "pygments_lexer": "ipython3",
   "version": "3.7.1"
  }
 },
 "nbformat": 4,
 "nbformat_minor": 2
}
