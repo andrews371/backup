{
 "cells": [
  {
   "cell_type": "code",
   "execution_count": 87,
   "metadata": {},
   "outputs": [
    {
     "name": "stdout",
     "output_type": "stream",
     "text": [
      "Kerala Blasters x Northeast United\n",
      "34\n"
     ]
    }
   ],
   "source": [
    "# lendo arquivo html baixado e analisando o mesmo com o beautiful soup\n",
    "\n",
    "from bs4 import BeautifulSoup\n",
    "\n",
    "with open('/home/andre/Documents/Bootcamp Python/Testes/odds.html', 'r') as f:    \n",
    "    link = f.read()\n",
    "    page2 = BeautifulSoup(link, 'html.parser') # aqui não coloquei o text pq a página já está salva no pc\n",
    "\n",
    "    time1 = page2.find_all('tr')[1].find_all('td')[1].text\n",
    "    time2 = page2.find_all('tr')[3].find_all('td')[0].text\n",
    "    times_secao_odds = time1 + ' x ' + time2\n",
    "    print(times_secao_odds)  \n",
    "    print(len(times_secao_odds))"
   ]
  },
  {
   "cell_type": "code",
   "execution_count": 1,
   "metadata": {},
   "outputs": [
    {
     "name": "stdout",
     "output_type": "stream",
     "text": [
      "0x0\n",
      "3\n",
      "0x0\n",
      "3\n"
     ]
    }
   ],
   "source": [
    "# lendo arquivo html baixado e analisando o mesmo com o beautiful soup\n",
    "\n",
    "from bs4 import BeautifulSoup\n",
    "\n",
    "with open('/home/andre/Documents/Bootcamp Python/Testes/odds.html', 'r') as f:\n",
    "    link = f.read()\n",
    "    page2 = BeautifulSoup(link, 'html.parser') # aqui não coloquei o text pq a página já está salva no pc\n",
    "\n",
    "    placar = page2.find_all('center')[0].text.split('Placar: ')[1].split(' Tempo: ')[0]\n",
    "    placar = placar.replace(' - ', 'x')\n",
    "    print(placar)\n",
    "    print(len(placar))\n",
    "\n",
    "with open('/home/andre/Documents/Bootcamp Python/Testes/soccer_stats.html', 'r') as f:    \n",
    "    link = f.read()\n",
    "    page2 = BeautifulSoup(link, 'html.parser') # aqui não coloquei o text pq a página já está salva no pc\n",
    "    \n",
    "    placar = page2.find_all('tr')[1].find_all('td')[1].text\n",
    "    placar = placar.replace(' - ', 'x')\n",
    "    print(placar)\n",
    "    print(len(placar))"
   ]
  },
  {
   "cell_type": "code",
   "execution_count": 36,
   "metadata": {},
   "outputs": [
    {
     "name": "stdout",
     "output_type": "stream",
     "text": [
      "6\n",
      "1\n"
     ]
    }
   ],
   "source": [
    "# lendo arquivo html baixado e analisando o mesmo com o beautiful soup\n",
    "\n",
    "from bs4 import BeautifulSoup\n",
    "\n",
    "with open('/home/andre/Documents/Bootcamp Python/Testes/odds.html', 'r') as f:\n",
    "    link = f.read()\n",
    "    page2 = BeautifulSoup(link, 'html.parser') # aqui não coloquei o text pq a página já está salva no pc\n",
    "\n",
    "    tempo = page2.find_all('center')[0].text.split('Placar: ')[1].split('Tempo: ')[1].split(\"'\")[0].split('+')[0]\n",
    "    #teste = \"FT\"\n",
    "    #placar = teste.split(\"'\")[0].split('+')[0]\n",
    "    print(placar)\n",
    "    print(len(placar))\n",
    "\n"
   ]
  },
  {
   "cell_type": "code",
   "execution_count": 54,
   "metadata": {},
   "outputs": [
    {
     "name": "stdout",
     "output_type": "stream",
     "text": [
      "65\n"
     ]
    }
   ],
   "source": [
    "from bs4 import BeautifulSoup\n",
    "import requests\n",
    "\n",
    "link = requests.get('http://18.231.88.179/sites/odds.php?id=0')\n",
    "page2 = BeautifulSoup(link.text, 'html.parser')\n",
    "\n",
    "goleadacasa_back = page2.find_all('td',{'bgcolor':'#FF69B4'})[27].text\n",
    "print(goleadacasa_back)"
   ]
  }
 ],
 "metadata": {
  "kernelspec": {
   "display_name": "Python 3",
   "language": "python",
   "name": "python3"
  },
  "language_info": {
   "codemirror_mode": {
    "name": "ipython",
    "version": 3
   },
   "file_extension": ".py",
   "mimetype": "text/x-python",
   "name": "python",
   "nbconvert_exporter": "python",
   "pygments_lexer": "ipython3",
   "version": "3.7.1"
  }
 },
 "nbformat": 4,
 "nbformat_minor": 2
}
