{
 "cells": [
  {
   "cell_type": "code",
   "execution_count": 1,
   "metadata": {},
   "outputs": [],
   "source": [
    "# até o momento está escrito da mesma forma no site do betamiic e no oddsportal\n",
    "\n",
    "from bs4 import BeautifulSoup as bs\n",
    "from selenium import webdriver \n",
    "from selenium.webdriver.common.keys import Keys\n",
    "from selenium.webdriver.common.action_chains import ActionChains\n",
    "from selenium.webdriver.support.ui import WebDriverWait # para aguardar o carregamento de elemento da página\n",
    "from selenium.webdriver.support import expected_conditions as EC # para aguardar o carregamento de elemento da página\n",
    "from selenium.webdriver.common.by import By # para o \"By\" quando tiver aguardando o carregamento de elemento da página\n",
    "import time"
   ]
  },
  {
   "cell_type": "markdown",
   "metadata": {},
   "source": [
    "## Pegando as ligas da estratégia desejada do betaminic \n",
    "### depois de ter a estratégia salva"
   ]
  },
  {
   "cell_type": "code",
   "execution_count": 233,
   "metadata": {
    "scrolled": false
   },
   "outputs": [
    {
     "ename": "KeyboardInterrupt",
     "evalue": "",
     "output_type": "error",
     "traceback": [
      "\u001b[0;31m---------------------------------------------------------------------------\u001b[0m",
      "\u001b[0;31mKeyboardInterrupt\u001b[0m                         Traceback (most recent call last)",
      "\u001b[0;32m<ipython-input-233-ce15c81364fc>\u001b[0m in \u001b[0;36m<module>\u001b[0;34m\u001b[0m\n\u001b[1;32m     37\u001b[0m \u001b[0;31m# acessando as ligas da estratégia\u001b[0m\u001b[0;34m\u001b[0m\u001b[0;34m\u001b[0m\u001b[0;34m\u001b[0m\u001b[0m\n\u001b[1;32m     38\u001b[0m \u001b[0;31m# dependendo da estrategia o css_selector aqui pode ser da tag a ou não. Testar...\u001b[0m\u001b[0;34m\u001b[0m\u001b[0;34m\u001b[0m\u001b[0;34m\u001b[0m\u001b[0m\n\u001b[0;32m---> 39\u001b[0;31m \u001b[0mCreate\u001b[0m \u001b[0;34m=\u001b[0m \u001b[0mWebDriverWait\u001b[0m\u001b[0;34m(\u001b[0m\u001b[0mdriver\u001b[0m\u001b[0;34m,\u001b[0m \u001b[0;36m120\u001b[0m\u001b[0;34m)\u001b[0m\u001b[0;34m.\u001b[0m\u001b[0muntil\u001b[0m\u001b[0;34m(\u001b[0m\u001b[0mEC\u001b[0m\u001b[0;34m.\u001b[0m\u001b[0mpresence_of_element_located\u001b[0m\u001b[0;34m(\u001b[0m\u001b[0;34m(\u001b[0m\u001b[0mBy\u001b[0m\u001b[0;34m.\u001b[0m\u001b[0mCSS_SELECTOR\u001b[0m\u001b[0;34m,\u001b[0m \u001b[0;34m'.leagueSearchByNames > a:nth-child(1) > span:nth-child(1) > strong:nth-child(3)'\u001b[0m\u001b[0;34m)\u001b[0m\u001b[0;34m)\u001b[0m\u001b[0;34m)\u001b[0m\u001b[0;34m\u001b[0m\u001b[0;34m\u001b[0m\u001b[0m\n\u001b[0m\u001b[1;32m     40\u001b[0m \u001b[0mtime\u001b[0m\u001b[0;34m.\u001b[0m\u001b[0msleep\u001b[0m\u001b[0;34m(\u001b[0m\u001b[0;36m5\u001b[0m\u001b[0;34m)\u001b[0m\u001b[0;34m\u001b[0m\u001b[0;34m\u001b[0m\u001b[0m\n\u001b[1;32m     41\u001b[0m \u001b[0mCreate\u001b[0m\u001b[0;34m.\u001b[0m\u001b[0mclick\u001b[0m\u001b[0;34m(\u001b[0m\u001b[0;34m)\u001b[0m\u001b[0;34m\u001b[0m\u001b[0;34m\u001b[0m\u001b[0m\n",
      "\u001b[0;32m~/anaconda3/lib/python3.7/site-packages/selenium/webdriver/support/wait.py\u001b[0m in \u001b[0;36muntil\u001b[0;34m(self, method, message)\u001b[0m\n\u001b[1;32m     75\u001b[0m                 \u001b[0mscreen\u001b[0m \u001b[0;34m=\u001b[0m \u001b[0mgetattr\u001b[0m\u001b[0;34m(\u001b[0m\u001b[0mexc\u001b[0m\u001b[0;34m,\u001b[0m \u001b[0;34m'screen'\u001b[0m\u001b[0;34m,\u001b[0m \u001b[0;32mNone\u001b[0m\u001b[0;34m)\u001b[0m\u001b[0;34m\u001b[0m\u001b[0;34m\u001b[0m\u001b[0m\n\u001b[1;32m     76\u001b[0m                 \u001b[0mstacktrace\u001b[0m \u001b[0;34m=\u001b[0m \u001b[0mgetattr\u001b[0m\u001b[0;34m(\u001b[0m\u001b[0mexc\u001b[0m\u001b[0;34m,\u001b[0m \u001b[0;34m'stacktrace'\u001b[0m\u001b[0;34m,\u001b[0m \u001b[0;32mNone\u001b[0m\u001b[0;34m)\u001b[0m\u001b[0;34m\u001b[0m\u001b[0;34m\u001b[0m\u001b[0m\n\u001b[0;32m---> 77\u001b[0;31m             \u001b[0mtime\u001b[0m\u001b[0;34m.\u001b[0m\u001b[0msleep\u001b[0m\u001b[0;34m(\u001b[0m\u001b[0mself\u001b[0m\u001b[0;34m.\u001b[0m\u001b[0m_poll\u001b[0m\u001b[0;34m)\u001b[0m\u001b[0;34m\u001b[0m\u001b[0;34m\u001b[0m\u001b[0m\n\u001b[0m\u001b[1;32m     78\u001b[0m             \u001b[0;32mif\u001b[0m \u001b[0mtime\u001b[0m\u001b[0;34m.\u001b[0m\u001b[0mtime\u001b[0m\u001b[0;34m(\u001b[0m\u001b[0;34m)\u001b[0m \u001b[0;34m>\u001b[0m \u001b[0mend_time\u001b[0m\u001b[0;34m:\u001b[0m\u001b[0;34m\u001b[0m\u001b[0;34m\u001b[0m\u001b[0m\n\u001b[1;32m     79\u001b[0m                 \u001b[0;32mbreak\u001b[0m\u001b[0;34m\u001b[0m\u001b[0;34m\u001b[0m\u001b[0m\n",
      "\u001b[0;31mKeyboardInterrupt\u001b[0m: "
     ]
    }
   ],
   "source": [
    "# descomentar estas 4 próximas linhas para usar o navegador invisível\n",
    "#gecko = '/home/andre/Downloads/geckodriver'\n",
    "#driver = webdriver.FirefoxOptions()\n",
    "#driver.add_argument('-headless')\n",
    "#driver = webdriver.Firefox(executable_path=gecko, options=driver)\n",
    "\n",
    "# comentar a linha abaixo se for usar o navegador invisível e descomentar linhas no topo\n",
    "driver = webdriver.Firefox() \n",
    "url = 'https://www.betaminic.com/system/strategy'\n",
    "driver.get(url)\n",
    "time.sleep(1)\n",
    "\n",
    "elemento = driver.find_element_by_css_selector('#email')\n",
    "elemento.send_keys('andrews371')\n",
    "elemento = driver.find_element_by_css_selector('#password')\n",
    "elemento.send_keys('091225')\n",
    "driver.find_element_by_css_selector('button.btn').click()\n",
    "\n",
    "# MUDAR\n",
    "# acessando a cópia do método  \n",
    "# lembrar que o css_selector é do duplicate e nao do view (dessa vez nao é a tag \"a\")\n",
    "driver.find_element_by_css_selector(\"tr.parentTr:nth-child(17) > td:nth-child(4) > table:nth-child(1) > tbody:nth-child(1) > tr:nth-child(2) > td:nth-child(1) > button:nth-child(2)\").click()\n",
    "                                     \n",
    "# dando nome a copia\n",
    "# alcançando elemento                                                                                                                                \n",
    "Create = WebDriverWait(driver, 120).until(EC.presence_of_element_located((By.CSS_SELECTOR, '#cloneForm > div:nth-child(2) > div:nth-child(1) > div:nth-child(2) > input:nth-child(1)')))\n",
    "time.sleep(3) # as vezes é necessário só clicar no elemento depois de alcançar e dá um time.sleep()\n",
    "# obs.: o time.sleep acima deve ser um tempo pequeno pq a função wait já segura \n",
    "# o tempo necessário até a proxima ação, restando apenas mais alguns segundos (poucos) dependendo do caso - sempre testar o caso\n",
    "# clicando no campo para nome a copia\n",
    "Create.send_keys('teste')\n",
    "\n",
    "# aqui nao precisa de tempo pq é so clicar - nao tem nada processando no momento\n",
    "driver.find_element_by_css_selector(\".saveClone\").click()\n",
    "\n",
    "# AS TAMBÉM É PRECISO MUDAR AQUI\n",
    "# acessando as ligas da estratégia \n",
    "# dependendo da estrategia o css_selector aqui pode ser da tag a ou não. Testar...\n",
    "Create = WebDriverWait(driver, 120).until(EC.presence_of_element_located((By.CSS_SELECTOR, '.leagueSearchByNames > a:nth-child(1) > span:nth-child(1) > strong:nth-child(3)')))\n",
    "time.sleep(5) \n",
    "Create.click()\n",
    "\n",
    "# menu\n",
    "# outras vezes nao é necessario só clicar no elemento depois de dá o time.sleep()\n",
    "WebDriverWait(driver, 120).until(EC.presence_of_element_located((By.CSS_SELECTOR, '#league_modal_table_length > label:nth-child(1) > select:nth-child(1)'))).click()\n",
    "WebDriverWait(driver, 120).until(EC.presence_of_element_located((By.CSS_SELECTOR, '#league_modal_table_length > label:nth-child(1) > select:nth-child(1) > option:nth-child(4)'))).click()\n",
    "\n",
    "# esperando elemento (liga) ficar disponível\n",
    "WebDriverWait(driver, 120).until(EC.presence_of_element_located((By.CSS_SELECTOR, '#league_modal_table > tbody:nth-child(3) > tr:nth-child(1)')))\n",
    "time.sleep(10)\n",
    "\n",
    "# a partir daqui é com o beautiful soup\n",
    "html = driver.execute_script(\"return document.documentElement.outerHTML\")\n",
    "page = bs(html, 'html.parser')\n",
    "\n",
    "# ligas disponíveis depois de escolhidas as equipes\n",
    "tam_pagina = len(page.find_all('tbody')[0].find_all('tr'))\n",
    "\n",
    "# verificando quantas das ligas disponiveis foram selecionadas\n",
    "tam_ligas_escolhidas = 0\n",
    "for i in range(tam_pagina):\n",
    "    pagina = page.find_all('tbody')[0].find_all('tr')[i].find_all('td')[0].find('div').find('div').get('class')\n",
    "    if len(pagina) == 2:\n",
    "        tam_ligas_escolhidas += 1\n",
    "\n",
    "liga = []\n",
    "pos = 0  \n",
    "arquivo = open('ligas_hct.txt','w')\n",
    "\n",
    "for i in range(tam_pagina):\n",
    "    pagina = page.find_all('tbody')[0].find_all('tr')[i].find_all('td')[0].find('div').find('div').get('class')\n",
    "    if len(pagina) == 2:\n",
    "        ligas = page.find_all('tbody')[0].find_all('tr')[i].find_all('td')[1].text.strip()\n",
    "        ligas = ligas + ' ' + page.find_all('tbody')[0].find_all('tr')[i].find_all('td')[2].find('span').text.strip()\n",
    "        liga.append(ligas)\n",
    "        \n",
    "        if pos < (tam_ligas_escolhidas - 1):\n",
    "            arquivo.write(liga[pos] + \"\\n\")\n",
    "        else:\n",
    "            arquivo.write(liga[pos])\n",
    "        pos += 1\n",
    "arquivo.close()\n",
    "print(len(liga))\n",
    "print(liga)    \n",
    "driver.quit()"
   ]
  },
  {
   "cell_type": "markdown",
   "metadata": {},
   "source": [
    "## Pegando as ligas do betaminic através do passo a passo para criar uma nova estratégia"
   ]
  },
  {
   "cell_type": "code",
   "execution_count": 219,
   "metadata": {},
   "outputs": [
    {
     "name": "stdout",
     "output_type": "stream",
     "text": [
      "54\n",
      "['Croatia 1. HNL', 'Denmark 1st Division', 'Germany 2. Bundesliga', 'Austria 2. Liga', 'Germany 3. Liga', 'Australia A-League', 'Sweden Allsvenskan', 'Germany Bundesliga', 'Switzerland Challenge League', 'England Championship', 'Scotland Championship', 'Poland Division 1', 'Netherlands Eerste Divisie', 'Poland Ekstraklasa', 'Norway Eliteserien', 'Netherlands Eredivisie', 'Japan J1 League', 'Japan J2 League', 'Belgium Jupiler League', 'Spain LaLiga', 'Spain LaLiga2', 'England League One', 'England League Two', 'Romania Liga 1', 'Colombia Liga Aguila', 'Mexico Liga MX', 'Portugal LigaPro', 'France Ligue 1', 'France Ligue 2', 'USA MLS', 'France National', 'England National League', 'Norway OBOS-ligaen', 'Hungary OTP Bank Liga', 'Ireland Premier Division', 'England Premier League', 'Russia Premier League', 'Scotland Premiership', 'Portugal Primeira Liga', 'Argentina Primera Nacional', 'Italy Serie A', 'Brazil Serie A', 'Italy Serie B', 'Brazil Serie B', 'Switzerland Super League', 'China Super League', 'Greece Super League', 'Turkey Super Lig', 'Sweden Superettan', 'Argentina Superliga', 'Denmark Superliga', 'Austria Tipico Bundesliga', 'Finland Veikkausliiga', 'Finland Ykkonen']\n"
     ]
    }
   ],
   "source": [
    "# descomentar estas 4 próximas linhas para usar o navegador invisível\n",
    "#gecko = '/home/andre/Downloads/geckodriver'\n",
    "#driver = webdriver.FirefoxOptions()\n",
    "#driver.add_argument('-headless')\n",
    "#driver = webdriver.Firefox(executable_path=gecko, options=driver)\n",
    "\n",
    "# comentar a linha abaixo se for usar o navegador invisível e descomentar linhas no topo\n",
    "driver = webdriver.Firefox() \n",
    "url = 'https://www.betaminic.com/system/strategy'\n",
    "driver.get(url)\n",
    "time.sleep(1)\n",
    "\n",
    "elemento = driver.find_element_by_css_selector('#email')\n",
    "elemento.send_keys('andrews371')\n",
    "elemento = driver.find_element_by_css_selector('#password')\n",
    "elemento.send_keys('091225')\n",
    "driver.find_element_by_css_selector('button.btn').click()\n",
    "\n",
    "# clicando em \"no\" assim que loga\n",
    "'''driver.find_element_by_css_selector('.sa-button-container > button:nth-child(1)').click()\n",
    "time.sleep(7)'''\n",
    "# clicando para add nova estr.\n",
    "driver.find_element_by_css_selector('a.pull-right').click()\n",
    "\n",
    "# nome da estr.\n",
    "elemento = WebDriverWait(driver, 120).until(EC.presence_of_element_located((By.CSS_SELECTOR, 'input.form-control')))\n",
    "time.sleep(3)\n",
    "elemento.send_keys('teste')\n",
    "\n",
    "# esccolhendo o M.O.\n",
    "WebDriverWait(driver, 120).until(EC.presence_of_element_located((By.CSS_SELECTOR, 'div.form-group:nth-child(5) > div:nth-child(2) > div:nth-child(1) > select:nth-child(1)'))).click()\n",
    "WebDriverWait(driver, 120).until(EC.presence_of_element_located((By.CSS_SELECTOR, 'div.form-group:nth-child(5) > div:nth-child(2) > div:nth-child(1) > select:nth-child(1) > option:nth-child(2)'))).click()\n",
    "\n",
    "# escolhendo o home win e clicando para salvar\n",
    "Create = WebDriverWait(driver, 120).until(EC.presence_of_element_located((By.CSS_SELECTOR, 'div.form-group:nth-child(6) > div:nth-child(2) > div:nth-child(1) > select:nth-child(1)')))\n",
    "time.sleep(3)\n",
    "Create.click()\n",
    "WebDriverWait(driver, 120).until(EC.presence_of_element_located((By.CSS_SELECTOR, 'div.form-group:nth-child(6) > div:nth-child(2) > div:nth-child(1) > select:nth-child(1) > option:nth-child(2)'))).click()\n",
    "WebDriverWait(driver, 120).until(EC.presence_of_element_located((By.CSS_SELECTOR, 'input.btn'))).click()\n",
    "\n",
    "# clicando em \"no\"\n",
    "WebDriverWait(driver, 120).until(EC.presence_of_element_located((By.CSS_SELECTOR, '.confirm'))).click()\n",
    "\n",
    "# clicando em leagues\n",
    "WebDriverWait(driver, 120).until(EC.presence_of_element_located((By.CSS_SELECTOR, '#side-menu1 > li:nth-child(4) > a:nth-child(1)'))).click()\n",
    "\n",
    "# clicando em select leagues                                                       \n",
    "WebDriverWait(driver, 120).until(EC.presence_of_element_located((By.CSS_SELECTOR, '.in > li:nth-child(1) > a:nth-child(1)'))).click()\n",
    "\n",
    "# menu\n",
    "# outras vezes nao é necessario só clicar no elemento depois de dá o time.sleep()  \n",
    "WebDriverWait(driver, 120).until(EC.presence_of_element_located((By.CSS_SELECTOR, 'select.input-sm'))).click()\n",
    "WebDriverWait(driver, 120).until(EC.presence_of_element_located((By.CSS_SELECTOR, 'select.input-sm > option:nth-child(4)'))).click()\n",
    "                                                                                   \n",
    "# esperando elemento (liga) ficar disponível \n",
    "\n",
    "tam_pagina = 0\n",
    "while tam_pagina != 54:                                                                                   \n",
    "    # a partir daqui é com o beautiful soup\n",
    "    html = driver.execute_script(\"return document.documentElement.outerHTML\")\n",
    "    page = bs(html, 'html.parser')\n",
    "    tam_pagina = len(page.find_all('tbody')[0].find_all('tr'))\n",
    "    \n",
    "pos = 0  \n",
    "liga = []\n",
    "arquivo = open('ligas_beta.txt','w')\n",
    "\n",
    "for i in range(tam_pagina):\n",
    "    ligas = page.find_all('tbody')[0].find_all('tr')[i].find_all('td')[1].text.strip()\n",
    "    ligas = ligas + ' ' + page.find_all('tbody')[0].find_all('tr')[i].find_all('td')[2].find('span').text.strip()\n",
    "    liga.append(ligas)\n",
    "    \n",
    "    if i < (tam_pagina - 1):\n",
    "        arquivo.write(liga[pos] + \"\\n\")\n",
    "    else:\n",
    "        arquivo.write(liga[pos])\n",
    "    pos += 1\n",
    "arquivo.close()\n",
    "print(len(liga))\n",
    "print(liga) \n",
    "driver.quit()"
   ]
  },
  {
   "cell_type": "markdown",
   "metadata": {},
   "source": [
    "## Pegando os times da estratégia desejada do betaminic\n",
    "### depois de ter a estratégia salva"
   ]
  },
  {
   "cell_type": "code",
   "execution_count": 235,
   "metadata": {},
   "outputs": [],
   "source": [
    "arquivo = open('rascunho_times','r')\n",
    "tam_times = len(arquivo.read().split('var arrStrategyTeams = JSON.parse')[1].split('\"name\":\"'))\n",
    "equipes = []\n",
    "\n",
    "# o primeiro valor está à  esquerda do elemento divisor do split, e esse elemento nao me interessa\n",
    "# por isso nao conto a partir da posição inicial\n",
    "for i in range(1,tam_times):\n",
    "    arquivo2 = open('rascunho_times','r')\n",
    "    times = arquivo2.read().split('var arrStrategyTeams = JSON.parse')[1]\n",
    "    times = times.split('\"name\":\"')[i].split('\"}')[0]\n",
    "    equipes.append(times)\n",
    "arquivo.close()\n",
    "    \n",
    "pos = 0\n",
    "arquivo2 = open('times_under25.txt','w')\n",
    "    \n",
    "for i in range(len(equipes)):\n",
    "    # len(equipes) - 1 é a última posição que será salva sem o \"\\n\"\n",
    "    if i < (len(equipes) - 1):\n",
    "        arquivo2.write(equipes[pos] + \"\\n\")\n",
    "    else:\n",
    "        arquivo2.write(equipes[pos])\n",
    "    pos += 1\n",
    "    \n",
    "arquivo2.close()"
   ]
  },
  {
   "cell_type": "code",
   "execution_count": null,
   "metadata": {},
   "outputs": [],
   "source": [
    "# manipulação de arquivos - abrindo e fechando arquivos \n",
    "# os arquivos teste.txt e teste2.txt devem existir ou serem criados e depois \n",
    "# é só fazer os testes com manipulação de arquivos\n",
    "\n",
    "nome = \"teste2.txt\"   \n",
    "with open(nome, 'w', encoding='utf-8') as arq:\n",
    "    # CORPO DO WITH\n",
    "    for j in range(1301):\n",
    "        arquivo = open('teste.txt')\n",
    "        b = arquivo.read().split('\\n')[j]\n",
    "        print(b)\n",
    "        if j < 1300:\n",
    "            arq.write(b + '\\n')\n",
    "        else:\n",
    "            arq.write(b)\n",
    "    arquivo.close()"
   ]
  },
  {
   "cell_type": "code",
   "execution_count": null,
   "metadata": {},
   "outputs": [],
   "source": [
    "arquivo = open('teste.txt')\n",
    "b = arquivo.read().split('\\n')\n",
    "\n",
    "arquivo.close()\n",
    "\n",
    "arquivo = open('teste2.txt')\n",
    "b = arquivo.read().split('\\n')\n",
    "print(b[1300])\n",
    "arquivo.close()"
   ]
  },
  {
   "cell_type": "code",
   "execution_count": 217,
   "metadata": {},
   "outputs": [
    {
     "name": "stdout",
     "output_type": "stream",
     "text": [
      "34\n",
      "36\n"
     ]
    }
   ],
   "source": [
    "a = int('showing 1 to 34 from 34 records'.split('to ')[1].split(' from')[0])\n",
    "print(a)\n",
    "print(a + 2)"
   ]
  }
 ],
 "metadata": {
  "kernelspec": {
   "display_name": "Python 3",
   "language": "python",
   "name": "python3"
  },
  "language_info": {
   "codemirror_mode": {
    "name": "ipython",
    "version": 3
   },
   "file_extension": ".py",
   "mimetype": "text/x-python",
   "name": "python",
   "nbconvert_exporter": "python",
   "pygments_lexer": "ipython3",
   "version": "3.7.1"
  }
 },
 "nbformat": 4,
 "nbformat_minor": 2
}
