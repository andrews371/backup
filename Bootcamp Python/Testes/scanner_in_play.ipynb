{
 "cells": [
  {
   "cell_type": "code",
   "execution_count": 1,
   "metadata": {},
   "outputs": [
    {
     "data": {
      "text/html": [
       "<style>.container { width:99% !important; }</style>"
      ],
      "text/plain": [
       "<IPython.core.display.HTML object>"
      ]
     },
     "metadata": {},
     "output_type": "display_data"
    }
   ],
   "source": [
    "import pandas as pd\n",
    "import numpy as np\n",
    "import pandas as pd\n",
    "from bs4 import BeautifulSoup\n",
    "import requests\n",
    "from IPython.core.display import display, HTML\n",
    "display(HTML(\"<style>.container { width:99% !important; }</style>\"))\n",
    "\n",
    "#Pandas Settings\n",
    "pd.options.display.float_format = '{:,.2f}'.format"
   ]
  },
  {
   "cell_type": "code",
   "execution_count": 506,
   "metadata": {
    "scrolled": false
   },
   "outputs": [],
   "source": [
    "url = requests.get('http://18.231.88.179/sites/scanner.php?timeI=0&timeF=0')\n",
    "\n",
    "page = BeautifulSoup(url.text, 'html.parser')\n",
    "\n",
    "jogo = page.find_all('tr')\n",
    "head = page.find_all('',{'class':'text-center'})\n",
    "tam_head = len(page.find_all('',{'class':'text-center'}))\n",
    "\n",
    "for i in range(1,len(jogo)):\n",
    "    print(f'jogo {i}')\n",
    "    \n",
    "    # atributos do jogo\n",
    "    for j in range(11):\n",
    "        \n",
    "        # tempo de jogo\n",
    "        if j == 0:\n",
    "            tempo = jogo[i].find_all('td')[j]\n",
    "            print('tempo')\n",
    "            print(tempo)\n",
    "        \n",
    "        # placar\n",
    "        elif j == 1:\n",
    "            placar = jogo[i].find_all('td')[j]\n",
    "            print('placar')\n",
    "            print(placar)\n",
    "            \n",
    "        # equipes\n",
    "        elif j == 2:\n",
    "            times = jogo[i].find_all('td')[j]\n",
    "            print('equipes')\n",
    "            print(times)\n",
    "         \n",
    "        # chutes no gol\n",
    "        elif j == 3:\n",
    "            chutesnogol = jogo[i].find_all('td')[j]\n",
    "            print('chutes no gol')\n",
    "            print(chutesnogol)\n",
    "         \n",
    "        # chutes fora do gol\n",
    "        elif j == 4:\n",
    "            chutesforagol = jogo[i].find_all('td')[j]\n",
    "            print('chutes fora do gol')\n",
    "            print(chutesforagol)\n",
    "            \n",
    "        # escanteios\n",
    "        elif j == 5:\n",
    "            escanteios = jogo[i].find_all('td')[j]\n",
    "            print('escanteios')\n",
    "            print(escanteios)\n",
    "            \n",
    "        # ataques perigosos\n",
    "        elif j == 6:\n",
    "            ataquesperigosos = jogo[i].find_all('td')[j]\n",
    "            print('ataques perigosos')\n",
    "            print(ataquesperigosos)\n",
    "            \n",
    "        # posse de bola\n",
    "        elif j == 7:\n",
    "            possebola = jogo[i].find_all('td')[j]\n",
    "            print('posse de bola')\n",
    "            print(possebola)\n",
    "            \n",
    "        # PI 2\n",
    "        elif j == 8:\n",
    "            pi2 = jogo[i].find_all('td')[j]\n",
    "            print('PI 1')\n",
    "            print(pi2)\n",
    "            \n",
    "        # PI 1\n",
    "        elif j == 9:\n",
    "            pi1 = jogo[i].find_all('td')[j]\n",
    "            print('ṔI 2')\n",
    "            print(pi1)\n",
    "            \n",
    "        # link com odds\n",
    "        elif j == 10:\n",
    "            linkodds = jogo[i].find_all('td')[j]\n",
    "            print('link com as odds')\n",
    "            print(linkodds)\n",
    "            \n",
    "            \n",
    "    print('\\n')\n",
    "    \n",
    "    \n",
    "'''teste = dados[1] # jogo\n",
    "c = teste.find_all('td')[9] # atributo do jogo\n",
    "a = c.find('div').text\n",
    "print(c)\n",
    "\n",
    "print(f'a {a}')\n",
    "\n",
    "if (c.text.split(a)[1]) == '':\n",
    "    b = a\n",
    "else:\n",
    "    b = c.text.split(a)[1]\n",
    "\n",
    "print(f'b {b}')'''\n",
    "pass"
   ]
  }
 ],
 "metadata": {
  "kernelspec": {
   "display_name": "Python 3",
   "language": "python",
   "name": "python3"
  },
  "language_info": {
   "codemirror_mode": {
    "name": "ipython",
    "version": 3
   },
   "file_extension": ".py",
   "mimetype": "text/x-python",
   "name": "python",
   "nbconvert_exporter": "python",
   "pygments_lexer": "ipython3",
   "version": "3.7.1"
  }
 },
 "nbformat": 4,
 "nbformat_minor": 2
}
