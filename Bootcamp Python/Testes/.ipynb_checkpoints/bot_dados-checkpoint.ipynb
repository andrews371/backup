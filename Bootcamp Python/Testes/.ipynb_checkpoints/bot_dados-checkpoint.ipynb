{
 "cells": [
  {
   "cell_type": "code",
   "execution_count": 21,
   "metadata": {},
   "outputs": [],
   "source": [
    "import csv\n",
    "import time\n",
    "from bs4 import BeautifulSoup as bs\n",
    "from selenium import webdriver\n",
    "\n",
    "gecko = '/home/andre/Downloads/geckodriver'\n",
    "driver = webdriver.FirefoxOptions()\n",
    "driver.add_argument('-headless')\n",
    "driver = webdriver.Firefox(executable_path=gecko, options=driver)\n",
    "\n",
    "url = 'https://www.betfair.com/exchange/plus/football/market/1.162334618'\n",
    "driver.get(url)\n",
    "driver.find_element_by_css_selector('#ssc-liu').send_keys('aoliveira371@gmail.com')\n",
    "driver.find_element_by_css_selector('#ssc-lipw').send_keys('ao300887')\n",
    "\n",
    "time.sleep(3)\n",
    "\n",
    "html = driver.execute_script(\"return document.documentElement.outerHTML\")\n",
    "page = bs(html, 'html.parser')\n",
    "\n",
    "\n",
    "for i in range(6):\n",
    "    with open('Dados_Futebol.csv', 'a', encoding='utf-8', newline='') as acsv:\n",
    "        arq = csv.writer(acsv)\n",
    "        arq.writerow([page.find(class_='back-selection-button').find(class_='bet-button-price').text,page.find(class_='lay-selection-button').find(class_='bet-button-price').text])\n",
    "        time.sleep(10)\n",
    "\n",
    "driver.quit()"
   ]
  }
 ],
 "metadata": {
  "kernelspec": {
   "display_name": "Python 3",
   "language": "python",
   "name": "python3"
  },
  "language_info": {
   "codemirror_mode": {
    "name": "ipython",
    "version": 3
   },
   "file_extension": ".py",
   "mimetype": "text/x-python",
   "name": "python",
   "nbconvert_exporter": "python",
   "pygments_lexer": "ipython3",
   "version": "3.7.1"
  }
 },
 "nbformat": 4,
 "nbformat_minor": 2
}
