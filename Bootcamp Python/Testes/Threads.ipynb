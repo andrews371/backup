{
 "cells": [
  {
   "cell_type": "code",
   "execution_count": null,
   "metadata": {},
   "outputs": [],
   "source": [
    "# Uso de thread e função da thread recebendo argumento\n",
    "\n",
    "import threading\n",
    "import time\n",
    " \n",
    "# É necessário uma função para associar à thread e pode ter outro nome diferente de \"worker\"\n",
    "# A função também pode realizar outra tarefa e não necessariamente precisa de argumento\n",
    "# A thread se encerra quando a função que está associada a ela, aqui no caso \"worker\", chega ao fim de sua execução.\n",
    "# lembrando que ela executa a função associada a ela em paralelo com o restante do código\n",
    "def worker(message):\n",
    "    inp = ''\n",
    "    while inp.lower() != 'f':\n",
    "        inp = input('digite ')\n",
    " \n",
    " \n",
    "t = threading.Thread(target=worker,args=(\"thread sendo executada\",))\n",
    "t.start()\n",
    "while t.isAlive():\n",
    "    print(\"Aguardando thread\")\n",
    "    time.sleep(1)\n",
    " \n",
    "print(\"Programa finalizado\")"
   ]
  },
  {
   "cell_type": "code",
   "execution_count": 16,
   "metadata": {},
   "outputs": [
    {
     "name": "stdout",
     "output_type": "stream",
     "text": [
      "Aguardando thread\n",
      "Aguardando thread\n",
      "Aguardando thread\n",
      "digite f\n",
      "Programa finalizado\n"
     ]
    }
   ],
   "source": [
    "# Uso de thread e função da thread não recebendo argumento\n",
    "\n",
    "import threading\n",
    "import time\n",
    "\n",
    "def worker():\n",
    "    inp = ''\n",
    "    while inp.lower() != 'f':\n",
    "        inp = input('digite ')\n",
    " \n",
    " \n",
    "t = threading.Thread(target=worker)\n",
    "t.start()\n",
    "while t.isAlive():\n",
    "    print(\"Aguardando thread\")\n",
    "    time.sleep(1)\n",
    " \n",
    "print(\"Programa finalizado\")"
   ]
  }
 ],
 "metadata": {
  "kernelspec": {
   "display_name": "Python 3",
   "language": "python",
   "name": "python3"
  },
  "language_info": {
   "codemirror_mode": {
    "name": "ipython",
    "version": 3
   },
   "file_extension": ".py",
   "mimetype": "text/x-python",
   "name": "python",
   "nbconvert_exporter": "python",
   "pygments_lexer": "ipython3",
   "version": "3.7.1"
  }
 },
 "nbformat": 4,
 "nbformat_minor": 2
}
